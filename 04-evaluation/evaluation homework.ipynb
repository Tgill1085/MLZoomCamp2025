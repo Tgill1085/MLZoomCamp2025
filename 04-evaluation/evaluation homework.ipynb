{
 "cells": [
  {
   "cell_type": "code",
   "execution_count": 1,
   "id": "24b738a4-0898-4308-9943-22633313f39c",
   "metadata": {},
   "outputs": [],
   "source": [
    "import pandas as pd\n",
    "import numpy as np\n",
    "\n",
    "import matplotlib.pyplot as plt\n",
    "from IPython.display import display\n",
    "from tqdm.auto import tqdm"
   ]
  },
  {
   "cell_type": "markdown",
   "id": "898b4f1b-df9d-4d5a-8385-6b0a00ebaca8",
   "metadata": {},
   "source": [
    "# Data preparation\n",
    "Check if the missing values are presented in the features. </br>\n",
    "If there are missing values:</br>\n",
    "For caterogiral features, replace them with 'NA'</br>\n",
    "For numerical features, replace with with 0.0</br>\n",
    "Split the data into 3 parts: train/validation/test with 60%/20%/20% distribution. Use train_test_split function for that with random_state=1\n",
    "\n"
   ]
  },
  {
   "cell_type": "code",
   "execution_count": 2,
   "id": "b5c11196-d565-40e0-9139-fc54905f5ec5",
   "metadata": {},
   "outputs": [
    {
     "data": {
      "text/html": [
       "<div>\n",
       "<style scoped>\n",
       "    .dataframe tbody tr th:only-of-type {\n",
       "        vertical-align: middle;\n",
       "    }\n",
       "\n",
       "    .dataframe tbody tr th {\n",
       "        vertical-align: top;\n",
       "    }\n",
       "\n",
       "    .dataframe thead th {\n",
       "        text-align: right;\n",
       "    }\n",
       "</style>\n",
       "<table border=\"1\" class=\"dataframe\">\n",
       "  <thead>\n",
       "    <tr style=\"text-align: right;\">\n",
       "      <th></th>\n",
       "      <th>lead_source</th>\n",
       "      <th>industry</th>\n",
       "      <th>number_of_courses_viewed</th>\n",
       "      <th>annual_income</th>\n",
       "      <th>employment_status</th>\n",
       "      <th>location</th>\n",
       "      <th>interaction_count</th>\n",
       "      <th>lead_score</th>\n",
       "      <th>converted</th>\n",
       "    </tr>\n",
       "  </thead>\n",
       "  <tbody>\n",
       "    <tr>\n",
       "      <th>0</th>\n",
       "      <td>paid_ads</td>\n",
       "      <td>NaN</td>\n",
       "      <td>1</td>\n",
       "      <td>79450.0</td>\n",
       "      <td>unemployed</td>\n",
       "      <td>south_america</td>\n",
       "      <td>4</td>\n",
       "      <td>0.94</td>\n",
       "      <td>1</td>\n",
       "    </tr>\n",
       "    <tr>\n",
       "      <th>1</th>\n",
       "      <td>social_media</td>\n",
       "      <td>retail</td>\n",
       "      <td>1</td>\n",
       "      <td>46992.0</td>\n",
       "      <td>employed</td>\n",
       "      <td>south_america</td>\n",
       "      <td>1</td>\n",
       "      <td>0.80</td>\n",
       "      <td>0</td>\n",
       "    </tr>\n",
       "    <tr>\n",
       "      <th>2</th>\n",
       "      <td>events</td>\n",
       "      <td>healthcare</td>\n",
       "      <td>5</td>\n",
       "      <td>78796.0</td>\n",
       "      <td>unemployed</td>\n",
       "      <td>australia</td>\n",
       "      <td>3</td>\n",
       "      <td>0.69</td>\n",
       "      <td>1</td>\n",
       "    </tr>\n",
       "    <tr>\n",
       "      <th>3</th>\n",
       "      <td>paid_ads</td>\n",
       "      <td>retail</td>\n",
       "      <td>2</td>\n",
       "      <td>83843.0</td>\n",
       "      <td>NaN</td>\n",
       "      <td>australia</td>\n",
       "      <td>1</td>\n",
       "      <td>0.87</td>\n",
       "      <td>0</td>\n",
       "    </tr>\n",
       "    <tr>\n",
       "      <th>4</th>\n",
       "      <td>referral</td>\n",
       "      <td>education</td>\n",
       "      <td>3</td>\n",
       "      <td>85012.0</td>\n",
       "      <td>self_employed</td>\n",
       "      <td>europe</td>\n",
       "      <td>3</td>\n",
       "      <td>0.62</td>\n",
       "      <td>1</td>\n",
       "    </tr>\n",
       "  </tbody>\n",
       "</table>\n",
       "</div>"
      ],
      "text/plain": [
       "    lead_source    industry  number_of_courses_viewed  annual_income  \\\n",
       "0      paid_ads         NaN                         1        79450.0   \n",
       "1  social_media      retail                         1        46992.0   \n",
       "2        events  healthcare                         5        78796.0   \n",
       "3      paid_ads      retail                         2        83843.0   \n",
       "4      referral   education                         3        85012.0   \n",
       "\n",
       "  employment_status       location  interaction_count  lead_score  converted  \n",
       "0        unemployed  south_america                  4        0.94          1  \n",
       "1          employed  south_america                  1        0.80          0  \n",
       "2        unemployed      australia                  3        0.69          1  \n",
       "3               NaN      australia                  1        0.87          0  \n",
       "4     self_employed         europe                  3        0.62          1  "
      ]
     },
     "execution_count": 2,
     "metadata": {},
     "output_type": "execute_result"
    }
   ],
   "source": [
    "df = pd.read_csv(\"hw4.csv\")\n",
    "df.head()"
   ]
  },
  {
   "cell_type": "code",
   "execution_count": 3,
   "id": "1573c155-53a1-4e0a-af01-df4e509837c5",
   "metadata": {},
   "outputs": [
    {
     "data": {
      "text/plain": [
       "lead_source                  object\n",
       "industry                     object\n",
       "number_of_courses_viewed      int64\n",
       "annual_income               float64\n",
       "employment_status            object\n",
       "location                     object\n",
       "interaction_count             int64\n",
       "lead_score                  float64\n",
       "converted                     int64\n",
       "dtype: object"
      ]
     },
     "execution_count": 3,
     "metadata": {},
     "output_type": "execute_result"
    }
   ],
   "source": [
    "df.dtypes"
   ]
  },
  {
   "cell_type": "code",
   "execution_count": 4,
   "id": "9d53deb3-77e1-4120-99d5-ac12a8f2c5ad",
   "metadata": {},
   "outputs": [
    {
     "data": {
      "text/plain": [
       "lead_source                 128\n",
       "industry                    134\n",
       "number_of_courses_viewed      0\n",
       "annual_income                 0\n",
       "employment_status           100\n",
       "location                     63\n",
       "interaction_count             0\n",
       "lead_score                    0\n",
       "converted                     0\n",
       "dtype: int64"
      ]
     },
     "execution_count": 4,
     "metadata": {},
     "output_type": "execute_result"
    }
   ],
   "source": [
    "df.isnull().sum()"
   ]
  },
  {
   "cell_type": "code",
   "execution_count": 5,
   "id": "2329e440-eae4-423c-931b-e4142e510d2b",
   "metadata": {},
   "outputs": [],
   "source": [
    "categorical = ['lead_source','industry','employment_status','location']\n",
    "numerical = ['number_of_courses_viewed','lead_score','annual_income','interaction_count']"
   ]
  },
  {
   "cell_type": "code",
   "execution_count": 6,
   "id": "f1a6dc3d-ed55-4047-8962-f12071d6895e",
   "metadata": {},
   "outputs": [],
   "source": [
    "df[categorical]=df[categorical].fillna('NA')\n",
    "df[numerical]=df[numerical].fillna(0.0)"
   ]
  },
  {
   "cell_type": "code",
   "execution_count": 7,
   "id": "1e410883-75c5-48ff-a67a-a09a7cd24361",
   "metadata": {},
   "outputs": [
    {
     "data": {
      "text/plain": [
       "np.int64(0)"
      ]
     },
     "execution_count": 7,
     "metadata": {},
     "output_type": "execute_result"
    }
   ],
   "source": [
    "df.isnull().any().sum()"
   ]
  },
  {
   "cell_type": "code",
   "execution_count": 8,
   "id": "1b1990db-0b75-462a-9ce4-e6b7303b035a",
   "metadata": {},
   "outputs": [],
   "source": [
    "from sklearn.model_selection import train_test_split\n",
    "\n",
    "df_full_train, df_test = train_test_split(df, test_size=0.2, random_state=1)\n",
    "df_train, df_val = train_test_split(df_full_train, test_size=0.25, random_state=1)"
   ]
  },
  {
   "cell_type": "code",
   "execution_count": 9,
   "id": "eb61a4a4-907b-4b3e-94ec-1ec0e58fed18",
   "metadata": {},
   "outputs": [],
   "source": [
    "df_full_train=df_full_train.reset_index(drop=True)\n",
    "df_train = df_train.reset_index(drop=True)\n",
    "df_val = df_val.reset_index(drop=True)\n",
    "df_test = df_test.reset_index(drop=True)\n",
    "\n",
    "y_full_train=df_full_train.converted.values\n",
    "y_train = df_train.converted.values\n",
    "y_val = df_val.converted.values\n",
    "y_test = df_test.converted.values"
   ]
  },
  {
   "cell_type": "code",
   "execution_count": 10,
   "id": "d08dc764-1d69-4635-9cf3-fed74b1a41b0",
   "metadata": {},
   "outputs": [],
   "source": [
    "del df_train['converted']\n",
    "del df_val['converted']\n",
    "del df_test['converted']\n",
    "del df_full_train['converted']"
   ]
  },
  {
   "cell_type": "markdown",
   "id": "5422a39f-72fc-442b-8b6b-6d91eb6b7dda",
   "metadata": {},
   "source": [
    "# Question 1: ROC AUC feature importance\n",
    "ROC AUC could also be used to evaluate feature importance of numerical variables.</br>\n",
    "\n",
    "Let's do that </br>\n",
    "\n",
    "For each numerical variable, use it as score (aka prediction) and compute the AUC with the y variable as ground truth. </br>\n",
    "Use the training dataset for that</br>\n",
    "If your AUC is < 0.5, invert this variable by putting \"-\" in front</br>\n",
    "\n",
    "(e.g. -df_train['balance'])</br>\n",
    "\n",
    "AUC can go below 0.5 if the variable is negatively correlated with the target variable. You can change the direction of the correlation by negating this variable - then negative correlation becomes positive.</br>\n",
    "\n",
    "Which numerical variable (among the following 4) has the highest AUC?</br>"
   ]
  },
  {
   "cell_type": "code",
   "execution_count": 11,
   "id": "2b65ddc9-7448-4dba-84ea-a39892110ab6",
   "metadata": {},
   "outputs": [
    {
     "name": "stdout",
     "output_type": "stream",
     "text": [
      "number_of_courses_viewed\n",
      "AUC: 0.7635680590007088\n",
      "lead_score\n",
      "AUC: 0.6144993577250176\n",
      "annual_income\n",
      "AUC: 0.5519578313253012\n",
      "interaction_count\n",
      "AUC: 0.738270176293409\n"
     ]
    }
   ],
   "source": [
    "from sklearn.metrics import roc_auc_score\n",
    "\n",
    "for col in numerical:\n",
    "    print(col)\n",
    "    auc_plus = roc_auc_score(y_train, df_train[col])\n",
    "    auc_neg = roc_auc_score(y_train, -df_train[col])\n",
    "\n",
    "    print(f\"AUC: {max(auc_plus,auc_neg)}\")"
   ]
  },
  {
   "cell_type": "markdown",
   "id": "f412841c-5b60-4c35-ad3a-ea36fd8337fe",
   "metadata": {},
   "source": [
    "#### Answer: number_of_courses_viewed"
   ]
  },
  {
   "cell_type": "markdown",
   "id": "d8937aeb-6c0f-4473-b6f1-840bb652fabb",
   "metadata": {},
   "source": [
    "# Question 2: Training the model\n",
    "Apply one-hot-encoding using DictVectorizer and train the logistic regression with these parameters: </br>\n",
    "</br>\n",
    "LogisticRegression(solver='liblinear', C=1.0, max_iter=1000)</br>\n",
    "What's the AUC of this model on the validation dataset? (round to 3 digits)</br>\n",
    "* 0.32\n",
    "* 0.52\n",
    "* 0.72\n",
    "* 0.92\n"
   ]
  },
  {
   "cell_type": "code",
   "execution_count": 12,
   "id": "ca6f69b5-ec94-4ac1-b1e8-3af7b2e2b1a2",
   "metadata": {},
   "outputs": [
    {
     "data": {
      "text/plain": [
       "np.float64(0.7)"
      ]
     },
     "execution_count": 12,
     "metadata": {},
     "output_type": "execute_result"
    }
   ],
   "source": [
    "from sklearn.feature_extraction import DictVectorizer\n",
    "from sklearn.linear_model import LogisticRegression\n",
    "\n",
    "dv = DictVectorizer(sparse=False)\n",
    "\n",
    "train_dict = df_train[categorical + numerical].to_dict(orient='records')\n",
    "X_train = dv.fit_transform(train_dict)\n",
    "\n",
    "model = LogisticRegression(solver='liblinear', C=1.0, max_iter=1000)\n",
    "model.fit(X_train, y_train)\n",
    "\n",
    "val_dict = df_val[categorical + numerical].to_dict(orient='records')\n",
    "X_val = dv.transform(val_dict)\n",
    "\n",
    "y_pred = model.predict_proba(X_val)[:, 1]\n",
    "converted_decision = (y_pred >= 0.5)\n",
    "(y_val == converted_decision).mean().round(3)"
   ]
  },
  {
   "cell_type": "markdown",
   "id": "a8753604-e689-4bf9-92fc-062037d9ae06",
   "metadata": {},
   "source": [
    "#### Answer  0.72"
   ]
  },
  {
   "cell_type": "markdown",
   "id": "5458f2a5-a750-4a24-bb9f-1c8067f700e6",
   "metadata": {},
   "source": [
    "# Question 3: Precision and Recall\n",
    "Now let's compute precision and recall for our model. </br>\n",
    "\n",
    "Evaluate the model on all thresholds from 0.0 to 1.0 with step 0.01</br>\n",
    "For each threshold, compute precision and recall </br>\n",
    "Plot them </br>\n",
    "At which threshold precision and recall curves intersect? </br>\n",
    "* 0.145\n",
    "* 0.345\n",
    "* 0.545\n",
    "* 0.745"
   ]
  },
  {
   "cell_type": "code",
   "execution_count": 13,
   "id": "9ff2723b-ffa6-4c8f-a38e-dc893bcb6f61",
   "metadata": {},
   "outputs": [],
   "source": [
    "scores = []\n",
    "\n",
    "thresholds = np.linspace(0, 1, 101)\n",
    "\n",
    "for t in thresholds:\n",
    "    actual_positive = (y_val == 1)\n",
    "    actual_negative = (y_val == 0)\n",
    "    \n",
    "    predict_positive = (y_pred >= t)\n",
    "    predict_negative = (y_pred < t)\n",
    "\n",
    "    tp = (predict_positive & actual_positive).sum()\n",
    "    tn = (predict_negative & actual_negative).sum()\n",
    "\n",
    "    fp = (predict_positive & actual_negative).sum()\n",
    "    fn = (predict_negative & actual_positive).sum()\n",
    "    \n",
    "    scores.append((t, tp, fp, fn, tn))"
   ]
  },
  {
   "cell_type": "code",
   "execution_count": 14,
   "id": "1671441e-4068-4930-9ba8-45c04a8001d8",
   "metadata": {},
   "outputs": [
    {
     "data": {
      "text/html": [
       "<div>\n",
       "<style scoped>\n",
       "    .dataframe tbody tr th:only-of-type {\n",
       "        vertical-align: middle;\n",
       "    }\n",
       "\n",
       "    .dataframe tbody tr th {\n",
       "        vertical-align: top;\n",
       "    }\n",
       "\n",
       "    .dataframe thead th {\n",
       "        text-align: right;\n",
       "    }\n",
       "</style>\n",
       "<table border=\"1\" class=\"dataframe\">\n",
       "  <thead>\n",
       "    <tr style=\"text-align: right;\">\n",
       "      <th></th>\n",
       "      <th>threshold</th>\n",
       "      <th>tp</th>\n",
       "      <th>fp</th>\n",
       "      <th>fn</th>\n",
       "      <th>tn</th>\n",
       "      <th>p</th>\n",
       "      <th>r</th>\n",
       "    </tr>\n",
       "  </thead>\n",
       "  <tbody>\n",
       "    <tr>\n",
       "      <th>96</th>\n",
       "      <td>0.96</td>\n",
       "      <td>3</td>\n",
       "      <td>0</td>\n",
       "      <td>168</td>\n",
       "      <td>122</td>\n",
       "      <td>1.0</td>\n",
       "      <td>0.017544</td>\n",
       "    </tr>\n",
       "    <tr>\n",
       "      <th>97</th>\n",
       "      <td>0.97</td>\n",
       "      <td>1</td>\n",
       "      <td>0</td>\n",
       "      <td>170</td>\n",
       "      <td>122</td>\n",
       "      <td>1.0</td>\n",
       "      <td>0.005848</td>\n",
       "    </tr>\n",
       "    <tr>\n",
       "      <th>98</th>\n",
       "      <td>0.98</td>\n",
       "      <td>0</td>\n",
       "      <td>0</td>\n",
       "      <td>171</td>\n",
       "      <td>122</td>\n",
       "      <td>NaN</td>\n",
       "      <td>0.000000</td>\n",
       "    </tr>\n",
       "    <tr>\n",
       "      <th>99</th>\n",
       "      <td>0.99</td>\n",
       "      <td>0</td>\n",
       "      <td>0</td>\n",
       "      <td>171</td>\n",
       "      <td>122</td>\n",
       "      <td>NaN</td>\n",
       "      <td>0.000000</td>\n",
       "    </tr>\n",
       "    <tr>\n",
       "      <th>100</th>\n",
       "      <td>1.00</td>\n",
       "      <td>0</td>\n",
       "      <td>0</td>\n",
       "      <td>171</td>\n",
       "      <td>122</td>\n",
       "      <td>NaN</td>\n",
       "      <td>0.000000</td>\n",
       "    </tr>\n",
       "  </tbody>\n",
       "</table>\n",
       "</div>"
      ],
      "text/plain": [
       "     threshold  tp  fp   fn   tn    p         r\n",
       "96        0.96   3   0  168  122  1.0  0.017544\n",
       "97        0.97   1   0  170  122  1.0  0.005848\n",
       "98        0.98   0   0  171  122  NaN  0.000000\n",
       "99        0.99   0   0  171  122  NaN  0.000000\n",
       "100       1.00   0   0  171  122  NaN  0.000000"
      ]
     },
     "execution_count": 14,
     "metadata": {},
     "output_type": "execute_result"
    }
   ],
   "source": [
    "columns = ['threshold', 'tp', 'fp', 'fn', 'tn']\n",
    "df_scores = pd.DataFrame(scores, columns=columns)\n",
    "\n",
    "df_scores['p'] = df_scores.tp / (df_scores.tp + df_scores.fp)\n",
    "df_scores['r'] = df_scores.tp / (df_scores.tp + df_scores.fn)\n",
    "\n",
    "df_scores.tail()"
   ]
  },
  {
   "cell_type": "code",
   "execution_count": 15,
   "id": "6525b1e8-f132-4ad5-9201-373a9d5003ba",
   "metadata": {},
   "outputs": [
    {
     "data": {
      "text/plain": [
       "<matplotlib.legend.Legend at 0x2802ad0c590>"
      ]
     },
     "execution_count": 15,
     "metadata": {},
     "output_type": "execute_result"
    },
    {
     "data": {
      "image/png": "[encoded data removed]",
      "text/plain": [
       "<Figure size 640x480 with 1 Axes>"
      ]
     },
     "metadata": {},
     "output_type": "display_data"
    }
   ],
   "source": [
    "plt.plot(df_scores.threshold, df_scores['p'], label='precision')\n",
    "plt.plot(df_scores.threshold, df_scores['r'], label='recall')\n",
    "\n",
    "x_min, x_max = df_scores.threshold.min(), df_scores.threshold.max()\n",
    "major_ticks = np.arange(np.floor(x_min), np.ceil(x_max) + 0.1, 0.1)\n",
    "\n",
    "plt.xticks(major_ticks)  \n",
    "plt.grid(axis='x', linestyle='--', linewidth=0.5)  \n",
    "plt.legend()\n"
   ]
  },
  {
   "cell_type": "code",
   "execution_count": 16,
   "id": "b8ab8c95-33b5-44b0-b678-69bc42ac8b78",
   "metadata": {},
   "outputs": [
    {
     "data": {
      "text/html": [
       "<div>\n",
       "<style scoped>\n",
       "    .dataframe tbody tr th:only-of-type {\n",
       "        vertical-align: middle;\n",
       "    }\n",
       "\n",
       "    .dataframe tbody tr th {\n",
       "        vertical-align: top;\n",
       "    }\n",
       "\n",
       "    .dataframe thead th {\n",
       "        text-align: right;\n",
       "    }\n",
       "</style>\n",
       "<table border=\"1\" class=\"dataframe\">\n",
       "  <thead>\n",
       "    <tr style=\"text-align: right;\">\n",
       "      <th></th>\n",
       "      <th>threshold</th>\n",
       "      <th>tp</th>\n",
       "      <th>fp</th>\n",
       "      <th>fn</th>\n",
       "      <th>tn</th>\n",
       "      <th>p</th>\n",
       "      <th>r</th>\n",
       "    </tr>\n",
       "  </thead>\n",
       "  <tbody>\n",
       "    <tr>\n",
       "      <th>64</th>\n",
       "      <td>0.64</td>\n",
       "      <td>134</td>\n",
       "      <td>38</td>\n",
       "      <td>37</td>\n",
       "      <td>84</td>\n",
       "      <td>0.77907</td>\n",
       "      <td>0.783626</td>\n",
       "    </tr>\n",
       "  </tbody>\n",
       "</table>\n",
       "</div>"
      ],
      "text/plain": [
       "    threshold   tp  fp  fn  tn        p         r\n",
       "64       0.64  134  38  37  84  0.77907  0.783626"
      ]
     },
     "execution_count": 16,
     "metadata": {},
     "output_type": "execute_result"
    }
   ],
   "source": [
    "df_scores[df_scores['threshold']==0.64]"
   ]
  },
  {
   "cell_type": "markdown",
   "id": "bca6e5d5-061f-498c-929a-c04fb6bd0480",
   "metadata": {},
   "source": [
    "#### Answer:  0.545"
   ]
  },
  {
   "cell_type": "markdown",
   "id": "c4ff2180-afd8-4d48-b73b-27430caa7862",
   "metadata": {},
   "source": [
    "# Question 4: F1 score\n",
    "Precision and recall are conflicting - when one grows, the other goes down. That's why they are often combined into the F1 score - a metrics that takes into account both</br>\n",
    "\n",
    "This is the formula for computing F1:</br>\n",
    "</br>\n",
    "$F 1 = 2⋅ \\frac{P⋅R }{P+R}$\n",
    "\n",
    "Where </br>\n",
    "P is precision and R is recall.</br>\n",
    "</br>\n",
    "Let's compute F1 for all thresholds from 0.0 to 1.0 with increment 0.01</br>\n",
    "</br>\n",
    "At which threshold F1 is maximal?</br>\n",
    "* 0.14</br>\n",
    "* 0.34</br>\n",
    "* 0.54</br>\n",
    "* 0.74 </br>\n"
   ]
  },
  {
   "cell_type": "code",
   "execution_count": 17,
   "id": "9731a32b-13c3-4d5e-bb37-439525bebcfc",
   "metadata": {},
   "outputs": [],
   "source": [
    "df_scores['f1'] = 2 * df_scores['p'] * df_scores['r'] / (df_scores['p'] + df_scores['r'])"
   ]
  },
  {
   "cell_type": "code",
   "execution_count": 18,
   "id": "e9111137-9f53-40fe-b8a7-43a5c274afee",
   "metadata": {},
   "outputs": [
    {
     "data": {
      "text/plain": [
       "<matplotlib.legend.Legend at 0x2802ae39810>"
      ]
     },
     "execution_count": 18,
     "metadata": {},
     "output_type": "execute_result"
    },
    {
     "data": {
      "image/png": "[encoded data removed]",
      "text/plain": [
       "<Figure size 640x480 with 1 Axes>"
      ]
     },
     "metadata": {},
     "output_type": "display_data"
    }
   ],
   "source": [
    "plt.plot(df_scores.threshold, df_scores['f1'], label='F1')\n",
    "x_min, x_max = df_scores.threshold.min(), df_scores.threshold.max()\n",
    "major_ticks = np.arange(np.floor(x_min), np.ceil(x_max) + 0.1, 0.1)\n",
    "\n",
    "plt.xticks(major_ticks)  \n",
    "plt.grid(axis='x', linestyle='--', linewidth=0.5)  \n",
    "plt.legend()\n"
   ]
  },
  {
   "cell_type": "code",
   "execution_count": 19,
   "id": "7056e952-0e46-4f9d-8114-1c7c6e535b97",
   "metadata": {},
   "outputs": [
    {
     "name": "stdout",
     "output_type": "stream",
     "text": [
      "Best Threshold: 0.5700000000000001\n",
      "Best F1-Score: 0.8124999999999999\n"
     ]
    }
   ],
   "source": [
    "best_row = df_scores.loc[df_scores['f1'].idxmax()]\n",
    "best_threshold = best_row['threshold']\n",
    "best_f1 = best_row['f1']\n",
    "\n",
    "print(\"Best Threshold:\", best_threshold)\n",
    "print(\"Best F1-Score:\", best_f1)"
   ]
  },
  {
   "cell_type": "markdown",
   "id": "6cd4f1dc-d58b-49b3-9205-a8554de9ac4d",
   "metadata": {},
   "source": [
    "#### Answer:  0.54"
   ]
  },
  {
   "cell_type": "markdown",
   "id": "a4b07354-694d-425f-a05e-1df4f6f66fe1",
   "metadata": {},
   "source": [
    "# Question 5: 5-Fold CV\n",
    "\n",
    "Use the KFold class from Scikit-Learn to evaluate our model on 5 different folds: </br>\n",
    "\n",
    "KFold(n_splits=5, shuffle=True, random_state=1) </br>\n",
    "Iterate over different folds of df_full_train </br>\n",
    "Split the data into train and validation </br>\n",
    "Train the model on train with these parameters: LogisticRegression(solver='liblinear', C=1.0, max_iter=1000) </br>\n",
    "Use AUC to evaluate the model on validation </br>\n",
    "How large is standard deviation of the scores across different folds? </br>\n",
    "* 0.0001 </br>\n",
    "* 0.006 </br>\n",
    "* 0.06 </br>\n",
    "* 0.36 </br>\n"
   ]
  },
  {
   "cell_type": "code",
   "execution_count": 20,
   "id": "6ad9438d-f168-4f16-b104-f508c7622b31",
   "metadata": {},
   "outputs": [],
   "source": [
    "def train(df_train, y_train, C=1.0):\n",
    "    dicts = df_train[categorical + numerical].to_dict(orient='records')\n",
    "\n",
    "    dv = DictVectorizer(sparse=False)\n",
    "    X_train = dv.fit_transform(dicts)\n",
    "\n",
    "    model = LogisticRegression(solver='liblinear', C=C, max_iter=1000)\n",
    "    model.fit(X_train, y_train)\n",
    "    \n",
    "    return dv, model"
   ]
  },
  {
   "cell_type": "code",
   "execution_count": 21,
   "id": "b1a606f7-3605-4ce0-8fa6-d123cba9fc67",
   "metadata": {},
   "outputs": [],
   "source": [
    "def predict(df, dv, model):\n",
    "    dicts = df[categorical + numerical].to_dict(orient='records')\n",
    "\n",
    "    X = dv.transform(dicts)\n",
    "    y_pred = model.predict_proba(X)[:, 1]\n",
    "\n",
    "    return y_pred"
   ]
  },
  {
   "cell_type": "code",
   "execution_count": 22,
   "id": "36107f41-87c9-46f1-94be-13466f5e8e86",
   "metadata": {},
   "outputs": [
    {
     "data": {
      "text/plain": [
       "[0.8060745924216483,\n",
       " 0.8713738368910783,\n",
       " 0.7754320118852139,\n",
       " 0.8018368617683685,\n",
       " 0.8558272713202291]"
      ]
     },
     "execution_count": 22,
     "metadata": {},
     "output_type": "execute_result"
    }
   ],
   "source": [
    "from sklearn.model_selection import KFold\n",
    "\n",
    "kfold = KFold(n_splits=5, shuffle=True, random_state=1)\n",
    "\n",
    "scores = []\n",
    "\n",
    "for train_idx, val_idx in kfold.split(df_full_train):\n",
    "    df_train = df_full_train.iloc[train_idx]\n",
    "    df_val = df_full_train.iloc[val_idx]\n",
    "\n",
    "    y_train = y_full_train[train_idx]\n",
    "    y_val = y_full_train[val_idx]\n",
    "\n",
    "    dv, model = train(df_train, y_train, C=1.0)\n",
    "    y_pred = predict(df_val, dv, model)\n",
    "\n",
    "    auc = roc_auc_score(y_val, y_pred)\n",
    "    scores.append(auc)\n",
    "scores"
   ]
  },
  {
   "cell_type": "code",
   "execution_count": 23,
   "id": "488ddb9d-da88-4762-b32b-476f11d7ff4e",
   "metadata": {},
   "outputs": [
    {
     "data": {
      "text/plain": [
       "np.float64(0.0358)"
      ]
     },
     "execution_count": 23,
     "metadata": {},
     "output_type": "execute_result"
    }
   ],
   "source": [
    "std_dev = np.std(scores)\n",
    "round(std_dev,4)"
   ]
  },
  {
   "cell_type": "markdown",
   "id": "b08a589d-0d88-4a8e-9e8f-b61f47f3ed48",
   "metadata": {},
   "source": [
    "#### Answer:  0.06"
   ]
  },
  {
   "cell_type": "markdown",
   "id": "8c6f231d-ff61-45ac-8a94-d028b821a098",
   "metadata": {},
   "source": [
    "# Question 6: Hyperparameter Tuning\n",
    "Now let's use 5-Fold cross-validation to find the best parameter C </br>\n",
    "</br>\n",
    "Iterate over the following C values: [0.000001, 0.001, 1] </br>\n",
    "Initialize KFold with the same parameters as previously </br>\n",
    "Use these parameters for the model: LogisticRegression(solver='liblinear', C=C, max_iter=1000) </br>\n",
    "Compute the mean score as well as the std (round the mean and std to 3 decimal digits) </br>\n",
    "Which C leads to the best mean score? </br>\n",
    "\n",
    "If you have ties, select the score with the lowest std. If you still have ties, select the smallest C.</br>"
   ]
  },
  {
   "cell_type": "code",
   "execution_count": 25,
   "id": "ab8b18f8-fe99-4fc7-81fd-378ccb4a49ad",
   "metadata": {},
   "outputs": [
    {
     "name": "stdout",
     "output_type": "stream",
     "text": [
      "C=1e-06 0.560 +- 0.024\n",
      "C=0.001 0.867 +- 0.029\n",
      "C=1 0.822 +- 0.036\n"
     ]
    }
   ],
   "source": [
    "for C in [0.000001, 0.001, 1]:\n",
    "    kfold = KFold(n_splits=5, shuffle=True, random_state=1)\n",
    "\n",
    "    scores = []\n",
    "\n",
    "    for train_idx, val_idx in kfold.split(df_full_train):\n",
    "        df_train = df_full_train.iloc[train_idx]\n",
    "        df_val = df_full_train.iloc[val_idx]\n",
    "\n",
    "        y_train = y_full_train[train_idx]\n",
    "        y_val = y_full_train[val_idx]\n",
    "    \n",
    "        dv, model = train(df_train, y_train, C=C)\n",
    "        y_pred = predict(df_val, dv, model)\n",
    "\n",
    "        auc = roc_auc_score(y_val, y_pred)\n",
    "        scores.append(auc)\n",
    "\n",
    "    print('C=%s %.3f +- %.3f' % (C, np.mean(scores), np.std(scores)))"
   ]
  },
  {
   "cell_type": "markdown",
   "id": "fdaf84b4-6a5d-4265-93cf-56720ca36a40",
   "metadata": {},
   "source": [
    "#### Answer: 0.001"
   ]
  }
 ],
 "metadata": {
  "kernelspec": {
   "display_name": "Python 3 (ipykernel)",
   "language": "python",
   "name": "python3"
  },
  "language_info": {
   "codemirror_mode": {
    "name": "ipython",
    "version": 3
   },
   "file_extension": ".py",
   "mimetype": "text/x-python",
   "name": "python",
   "nbconvert_exporter": "python",
   "pygments_lexer": "ipython3",
   "version": "3.13.5"
  }
 },
 "nbformat": 4,
 "nbformat_minor": 5
}
